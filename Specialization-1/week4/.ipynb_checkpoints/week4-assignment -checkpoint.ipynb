{
 "cells": [
  {
   "cell_type": "markdown",
   "metadata": {},
   "source": [
    "# L-layer network. \n",
    "\n",
    "* We will work on classifying cat pictures with L layers of neural network \n",
    "* First, we will write some function that will help make the complete model \n",
    "* Broadly, we will follow the steps below: \n",
    "    - Initialize parameters for all layers \n",
    "    - Forward propagation for Linear -> ReLu layers, i.e. from layer 1 to laye L-1\n",
    "    - Forward propagation for Linear -> Sigmoid layers, i.e. for layer L.\n",
    "    - Compute cost function(cross entropy loss)\n",
    "    - Backward propagation for Linear -> Sigmoid layer L.\n",
    "    - Backward propagation for Linear -> ReLu layers, i.e. from L-1 to 1.\n",
    "    - we update parameter at each step during this process "
   ]
  },
  {
   "cell_type": "code",
   "execution_count": null,
   "metadata": {},
   "outputs": [],
   "source": []
  }
 ],
 "metadata": {
  "kernelspec": {
   "display_name": "Python 3",
   "language": "python",
   "name": "python3"
  },
  "language_info": {
   "codemirror_mode": {
    "name": "ipython",
    "version": 3
   },
   "file_extension": ".py",
   "mimetype": "text/x-python",
   "name": "python",
   "nbconvert_exporter": "python",
   "pygments_lexer": "ipython3",
   "version": "3.7.7"
  }
 },
 "nbformat": 4,
 "nbformat_minor": 4
}
