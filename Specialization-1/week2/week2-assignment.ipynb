{
 "cells": [
  {
   "cell_type": "code",
   "execution_count": 2,
   "metadata": {},
   "outputs": [],
   "source": [
    "import numpy as np \n",
    "import matplotlib.pyplot as plt\n",
    "import scipy \n",
    "import h5py\n",
    "from PIL import Image \n",
    "from scipy import ndimage \n",
    "from lr_utils import load_dataset"
   ]
  },
  {
   "cell_type": "markdown",
   "metadata": {},
   "source": [
    "* We will write samll-small units of functions and at the end we will integrate all these function into one function that we run the whole network.  \n",
    "* then we will also observe how our model performed. "
   ]
  },
  {
   "cell_type": "code",
   "execution_count": 4,
   "metadata": {},
   "outputs": [],
   "source": [
    "## defining Sigmoid function \n",
    "\n",
    "def sigmoid(array): \n",
    "    \"\"\"\n",
    "    this function will compute the sigmoid of z \n",
    "    \n",
    "    Argument: \n",
    "    array -- A scalar or numpy array of any size.\n",
    "    \n",
    "    Return: \n",
    "    Sig : returns sigmod value sig of the given array \n",
    "    \"\"\"\n",
    "    return 1/(1 + np.exp(-array))\n"
   ]
  },
  {
   "cell_type": "code",
   "execution_count": 11,
   "metadata": {},
   "outputs": [],
   "source": [
    "## creating a function to do forward and backward propagation \n",
    "\n",
    "def propagate(weight, bias, X, Y):\n",
    "    \"\"\"\n",
    "    this function calculated the forward and backward propagation \n",
    "    \n",
    "    arguments: \n",
    "    weight: weight matrix \n",
    "    Bias : bias value \n",
    "    X: examples matrix \n",
    "    Y: Original label\n",
    "    \n",
    "    returns: \n",
    "    grads: a dictionary that contains the value of dw and db\n",
    "    cost: total cost of the function\n",
    "    \"\"\"\n",
    "    m = X.shape[1]\n",
    "    # forward prop\n",
    "    A = sigmoid(np.dot(weight.T, X) + bias)\n",
    "    cost = (-1/m)*(np.sum(Y*np.log(A) + (1-Y)*np.log(1 -A)))\n",
    "    \n",
    "    # back prop \n",
    "    dw = (1/m)*np.dot(X,(A-Y).T)\n",
    "    db = (1/m)*np.sum(A-Y)\n",
    "    \n",
    "    ## we put in assert commants to double check shapes of matrix \n",
    "    assert(dw.shape == weight.shape)\n",
    "    assert(db.dtype == float)\n",
    "    cost = np.squeeze(cost)\n",
    "    assert(cost.shape ==())\n",
    "    \n",
    "    grads = {\n",
    "        \"dw\": dw,\n",
    "        \"db\": db\n",
    "    }\n",
    "    return grads, cost"
   ]
  },
  {
   "cell_type": "code",
   "execution_count": 1,
   "metadata": {},
   "outputs": [],
   "source": [
    "## optimization step \n",
    "\n",
    "def optimize(weight, bias, X, Y, num_iterations, learning_rate, print_cost=False):\n",
    "    \"\"\"\n",
    "    Arguments: \n",
    "    weight : the weight matrix \n",
    "    Bias : the bias vector \n",
    "    X : (n_x, m) matrix of examples \n",
    "    Y : the true label \n",
    "    num_interations: the number of iterations \n",
    "    learning_rate: the learning rate of model \n",
    "    print_cost: print the out put ornot \n",
    "    \n",
    "    Returns: \n",
    "    params: the parameters \n",
    "    grads : the gradients \n",
    "    cost : the total cost \n",
    "    \"\"\"\n",
    "    \n",
    "    costs = []\n",
    "    for i in range(num_iterations):\n",
    "        grads, cost = propagate(weight, bias, X, Y)\n",
    "        \n",
    "        dw = grads[\"dw\"]\n",
    "        db = grads[\"db\"]\n",
    "        \n",
    "        weight = weight - learning_rate*dw\n",
    "        bias = bias - learning_rate*db\n",
    "        \n",
    "        if i% 100 ==0:\n",
    "            costs.append(cost)\n",
    "        if print_cost and i % 100 ==0:\n",
    "            print(\"costs after itr\", i, cost)\n",
    "            \n",
    "    params = {\n",
    "       \"w\": weight,\n",
    "        \"b\":bias\n",
    "    }\n",
    "    \n",
    "    grads = {\n",
    "        \"dw\":dw,\n",
    "        \"db\":db\n",
    "    }\n",
    "    return params, grads, costs"
   ]
  },
  {
   "cell_type": "code",
   "execution_count": 2,
   "metadata": {},
   "outputs": [],
   "source": [
    "## defigning predict function \n",
    "\n",
    "def predict(weight, bias, X):\n",
    "    \"\"\"\n",
    "    Arguments : \n",
    "    weight : the weight matrix \n",
    "    Bias :  the bias vector \n",
    "    X : the (n_x, m) input matrix x \n",
    "    \n",
    "    Returns: \n",
    "    Y_prediction : the predicted value of Y\n",
    "    \"\"\"\n",
    "    m = X.shape[1]\n",
    "    Y_prediction = np.zeros((1,m))\n",
    "    weight = weight.reshape(X.shape[0],1)\n",
    "    \n",
    "    A = sigmoid(np.dot(weight.T, X) + bias)\n",
    "    \n",
    "    Y_prediction[A> 0.5] = 1\n",
    "    \n",
    "    assert(Y_prediction.shape == (1,m))\n",
    "    \n",
    "    return Y_prediction"
   ]
  },
  {
   "cell_type": "code",
   "execution_count": 3,
   "metadata": {},
   "outputs": [],
   "source": [
    "# now making model using all other function \n",
    "\n",
    "def model(Xtrain, Ytrain, Xtest, Ytest, num_iterations = 2000, learning_rate=0.5, print_cost=False):\n",
    "    \"\"\"\n",
    "    Ans: training data \n",
    "    Ytrain: true label for training \n",
    "    Xtest: Test data \n",
    "    Ytest: true label of test data \n",
    "    num_iterations: number of iterations \n",
    "    learning_rate: the learning rate for gradient descent \n",
    "    print_cost: print or not \n",
    "    \n",
    "    Returns: \n",
    "    a dictionary D with costs, predictions values, weight, bias, learning rate and number of iterations\n",
    "    \"\"\"\n",
    "    weight, bias = np.zeros((Xtrain.shape[0],1)), 1\n",
    "    parameters, grads, costs = optimize(weight, bias, Xtrain, Ytrain, num_iterations, learning_rate, print_cost)\n",
    "    \n",
    "    weight = parameters[\"w\"]\n",
    "    bias = parameters[\"b\"]\n",
    "    \n",
    "    Y_prediction_test = predict(weight, bias, Xtest)\n",
    "    Y_prediction_train = predict(weight, bias, Xtrain)\n",
    "    \n",
    "    # Print train/test Errors\n",
    "    print(\"train accuracy: {} %\".format(100 - np.mean(np.abs(Y_prediction_train - Ytrain)) * 100))\n",
    "    print(\"test accuracy: {} %\".format(100 - np.mean(np.abs(Y_prediction_test - Ytest)) * 100))\n",
    "\n",
    "    \n",
    "    d = {\"costs\": costs,\n",
    "         \"Y_prediction_test\": Y_prediction_test, \n",
    "         \"Y_prediction_train\" : Y_prediction_train, \n",
    "         \"w\" : w, \n",
    "         \"b\" : b,\n",
    "         \"learning_rate\" : learning_rate,\n",
    "         \"num_iterations\": num_iterations}\n",
    "    \n",
    "    return d\n",
    "    "
   ]
  },
  {
   "cell_type": "code",
   "execution_count": 23,
   "metadata": {},
   "outputs": [
    {
     "name": "stdout",
     "output_type": "stream",
     "text": [
      "costs after itr 0 0.9687640798627202\n",
      "costs after itr 100 0.5789714874697308\n",
      "costs after itr 200 0.4624055360970962\n",
      "costs after itr 300 0.37620187443002745\n",
      "costs after itr 400 0.33486154871619117\n",
      "costs after itr 500 0.3054435606324983\n",
      "costs after itr 600 0.28123551128198343\n",
      "costs after itr 700 0.2608456508982371\n",
      "costs after itr 800 0.24336322855885917\n",
      "costs after itr 900 0.22816115812712612\n",
      "costs after itr 1000 0.21479031493757228\n",
      "costs after itr 1100 0.2029186419169989\n",
      "costs after itr 1200 0.19229410325683785\n",
      "costs after itr 1300 0.1827211291772989\n",
      "costs after itr 1400 0.17404507857118792\n",
      "costs after itr 1500 0.16614166757430368\n",
      "costs after itr 1600 0.15890958370322772\n",
      "costs after itr 1700 0.15226520587296552\n",
      "costs after itr 1800 0.14613875309855462\n",
      "costs after itr 1900 0.14047142453038655\n",
      "train accuracy: 99.04306220095694 %\n",
      "test accuracy: 72.0 %\n"
     ]
    }
   ],
   "source": [
    "# data prep and model execution\n",
    "\n",
    "## data loading \n",
    "# Loading the data (cat/non-cat)\n",
    "train_set_x_orig, train_set_y, test_set_x_orig, test_set_y, classes = load_dataset()\n",
    "\n",
    "train_set_x_flatten = train_set_x_orig.reshape(train_set_x_orig.shape[0],-1).T\n",
    "test_set_x_flatten = test_set_x_orig.reshape(test_set_x_orig.shape[0],-1).T\n",
    "\n",
    "# Standardizing the pixel values.\n",
    "train_set_x = train_set_x_flatten/255.\n",
    "test_set_x = test_set_x_flatten/255.\n",
    "\n",
    "d = model(train_set_x, train_set_y, test_set_x, test_set_y, num_iterations = 2000, learning_rate = 0.005, print_cost = True)\n"
   ]
  },
  {
   "cell_type": "code",
   "execution_count": 26,
   "metadata": {},
   "outputs": [
    {
     "data": {
      "image/png": "[encoded data removed]",
      "text/plain": [
       "<Figure size 432x288 with 1 Axes>"
      ]
     },
     "metadata": {
      "needs_background": "light"
     },
     "output_type": "display_data"
    }
   ],
   "source": [
    "# Plot learning curve (with costs)\n",
    "costs = np.squeeze(d['costs'])\n",
    "plt.plot(costs)\n",
    "plt.ylabel('cost')\n",
    "plt.xlabel('iterations (per hundreds)')\n",
    "plt.title(\"Learning rate =\" + str(d[\"learning_rate\"]))\n",
    "plt.show()"
   ]
  },
  {
   "cell_type": "code",
   "execution_count": 27,
   "metadata": {},
   "outputs": [
    {
     "name": "stdout",
     "output_type": "stream",
     "text": [
      "learning rate is: 0.01\n",
      "train accuracy: 99.52153110047847 %\n",
      "test accuracy: 70.0 %\n",
      "\n",
      "-------------------------------------------------------\n",
      "\n",
      "learning rate is: 0.001\n",
      "train accuracy: 88.03827751196172 %\n",
      "test accuracy: 60.0 %\n",
      "\n",
      "-------------------------------------------------------\n",
      "\n",
      "learning rate is: 0.0001\n",
      "train accuracy: 67.94258373205741 %\n",
      "test accuracy: 40.0 %\n",
      "\n",
      "-------------------------------------------------------\n",
      "\n"
     ]
    },
    {
     "data": {
      "image/png": "[encoded data removed]",
      "text/plain": [
       "<Figure size 432x288 with 1 Axes>"
      ]
     },
     "metadata": {
      "needs_background": "light"
     },
     "output_type": "display_data"
    }
   ],
   "source": [
    "learning_rates = [0.01, 0.001, 0.0001]\n",
    "models = {}\n",
    "for i in learning_rates:\n",
    "    print (\"learning rate is: \" + str(i))\n",
    "    models[str(i)] = model(train_set_x, train_set_y, test_set_x, test_set_y, num_iterations = 1500, learning_rate = i, print_cost = False)\n",
    "    print ('\\n' + \"-------------------------------------------------------\" + '\\n')\n",
    "\n",
    "for i in learning_rates:\n",
    "    plt.plot(np.squeeze(models[str(i)][\"costs\"]), label= str(models[str(i)][\"learning_rate\"]))\n",
    "\n",
    "plt.ylabel('cost')\n",
    "plt.xlabel('iterations (hundreds)')\n",
    "\n",
    "legend = plt.legend(loc='upper center', shadow=True)\n",
    "frame = legend.get_frame()\n",
    "frame.set_facecolor('0.90')\n",
    "plt.show()"
   ]
  },
  {
   "cell_type": "markdown",
   "metadata": {},
   "source": [
    "useful references: \n",
    "- http://www.wildml.com/2015/09/implementing-a-neural-network-from-scratch/\n",
    "- https://stats.stackexchange.com/questions/211436/why-do-we-normalize-images-by-subtracting-the-datasets-image-mean-and-not-the-c"
   ]
  },
  {
   "cell_type": "code",
   "execution_count": null,
   "metadata": {},
   "outputs": [],
   "source": []
  }
 ],
 "metadata": {
  "kernelspec": {
   "display_name": "Python 3",
   "language": "python",
   "name": "python3"
  },
  "language_info": {
   "codemirror_mode": {
    "name": "ipython",
    "version": 3
   },
   "file_extension": ".py",
   "mimetype": "text/x-python",
   "name": "python",
   "nbconvert_exporter": "python",
   "pygments_lexer": "ipython3",
   "version": "3.7.7"
  }
 },
 "nbformat": 4,
 "nbformat_minor": 4
}
