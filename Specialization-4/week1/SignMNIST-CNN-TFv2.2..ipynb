{
 "cells": [
  {
   "cell_type": "code",
   "execution_count": 1,
   "metadata": {},
   "outputs": [],
   "source": [
    "# imports \n",
    "import math\n",
    "import numpy as np \n",
    "import h5py\n",
    "import matplotlib.pyplot as plt \n",
    "import tensorflow as tf \n",
    "\n",
    "%matplotlib inline "
   ]
  },
  {
   "cell_type": "markdown",
   "metadata": {},
   "source": [
    "## Data loading and preparation\n",
    "\n",
    "- Load the data \n",
    "- Normalize the image vector"
   ]
  },
  {
   "cell_type": "code",
   "execution_count": 2,
   "metadata": {},
   "outputs": [
    {
     "name": "stdout",
     "output_type": "stream",
     "text": [
      "train set X origin shape (1080, 64, 64, 3)\n",
      "train set Y origin shape (1080,)\n",
      "test set X origin shape (120, 64, 64, 3)\n",
      "test set Y origin shape (120,)\n"
     ]
    }
   ],
   "source": [
    "# load the data from compressed file \n",
    "train_dataset = h5py.File('datasets/train_signs.h5', \"r\")\n",
    "train_set_x_orig = np.array(train_dataset[\"train_set_x\"][:]) # your train set features\n",
    "train_set_y_orig = np.array(train_dataset[\"train_set_y\"][:]) # your train set labels\n",
    "\n",
    "test_dataset = h5py.File('datasets/test_signs.h5', \"r\")\n",
    "test_set_x_orig = np.array(test_dataset[\"test_set_x\"][:]) # your test set features\n",
    "test_set_y_orig = np.array(test_dataset[\"test_set_y\"][:]) # your test set labels\n",
    "\n",
    "print( \"train set X origin shape\", train_set_x_orig.shape)\n",
    "print( \"train set Y origin shape\", train_set_y_orig.shape)\n",
    "print( \"test set X origin shape\", test_set_x_orig.shape)\n",
    "print( \"test set Y origin shape\", test_set_y_orig.shape)\n",
    "\n",
    "\n",
    "classes = np.array(test_dataset[\"list_classes\"][:]) # the list of classes\n",
    "\n",
    "# Normalize these vectors \n",
    "X_train = train_set_x_orig/255\n",
    "X_test = test_set_x_orig/255\n",
    "\n",
    "Y_train = train_set_y_orig\n",
    "Y_test = test_set_y_orig\n"
   ]
  },
  {
   "cell_type": "markdown",
   "metadata": {},
   "source": [
    "# Convolutional Neural network model \n",
    "\n",
    "* Here we only want to see how the neural network model works on sign MNIST dataset. \n"
   ]
  },
  {
   "cell_type": "code",
   "execution_count": 3,
   "metadata": {},
   "outputs": [
    {
     "name": "stdout",
     "output_type": "stream",
     "text": [
      "Model: \"sequential\"\n",
      "_________________________________________________________________\n",
      "Layer (type)                 Output Shape              Param #   \n",
      "=================================================================\n",
      "conv2d (Conv2D)              (None, 64, 64, 16)        448       \n",
      "_________________________________________________________________\n",
      "max_pooling2d (MaxPooling2D) (None, 32, 32, 16)        0         \n",
      "_________________________________________________________________\n",
      "conv2d_1 (Conv2D)            (None, 30, 30, 32)        4640      \n",
      "_________________________________________________________________\n",
      "max_pooling2d_1 (MaxPooling2 (None, 15, 15, 32)        0         \n",
      "_________________________________________________________________\n",
      "flatten (Flatten)            (None, 7200)              0         \n",
      "_________________________________________________________________\n",
      "dense (Dense)                (None, 512)               3686912   \n",
      "_________________________________________________________________\n",
      "dense_1 (Dense)              (None, 128)               65664     \n",
      "_________________________________________________________________\n",
      "dense_2 (Dense)              (None, 6)                 774       \n",
      "=================================================================\n",
      "Total params: 3,758,438\n",
      "Trainable params: 3,758,438\n",
      "Non-trainable params: 0\n",
      "_________________________________________________________________\n"
     ]
    }
   ],
   "source": [
    "# making a sequential model with Tensorflow \n",
    "model = tf.keras.models.Sequential([\n",
    "    tf.keras.layers.Conv2D(16, (3,3), activation='relu',padding='same', input_shape=(64,64,3)),\n",
    "    tf.keras.layers.MaxPooling2D(2,2),\n",
    "    tf.keras.layers.Conv2D(32, (3,3), activation='relu'),\n",
    "    tf.keras.layers.MaxPooling2D(2,2),\n",
    "    tf.keras.layers.Flatten(),\n",
    "    tf.keras.layers.Dense(512, activation='relu'),\n",
    "    tf.keras.layers.Dense(128, activation='relu'),\n",
    "    tf.keras.layers.Dense(6, activation='softmax')\n",
    "])\n",
    "\n",
    "# comile the model \n",
    "model.compile(optimizer='adam', \n",
    "             loss = \"sparse_categorical_crossentropy\",\n",
    "             metrics= [\"accuracy\"])\n",
    "\n",
    "# model summary\n",
    "model.summary()\n"
   ]
  },
  {
   "cell_type": "code",
   "execution_count": 4,
   "metadata": {},
   "outputs": [
    {
     "name": "stdout",
     "output_type": "stream",
     "text": [
      "Epoch 1/20\n",
      "34/34 - 2s - loss: 1.7703 - accuracy: 0.2537\n",
      "Epoch 2/20\n",
      "34/34 - 2s - loss: 1.1824 - accuracy: 0.5667\n",
      "Epoch 3/20\n",
      "34/34 - 2s - loss: 0.6596 - accuracy: 0.7870\n",
      "Epoch 4/20\n",
      "34/34 - 2s - loss: 0.4511 - accuracy: 0.8509\n",
      "Epoch 5/20\n",
      "34/34 - 2s - loss: 0.3069 - accuracy: 0.9130\n",
      "Epoch 6/20\n",
      "34/34 - 2s - loss: 0.1922 - accuracy: 0.9398\n",
      "Epoch 7/20\n",
      "34/34 - 2s - loss: 0.1253 - accuracy: 0.9630\n",
      "Epoch 8/20\n",
      "34/34 - 2s - loss: 0.0813 - accuracy: 0.9778\n",
      "Epoch 9/20\n",
      "34/34 - 2s - loss: 0.0371 - accuracy: 0.9944\n",
      "Epoch 10/20\n",
      "34/34 - 2s - loss: 0.0200 - accuracy: 0.9963\n",
      "Epoch 11/20\n",
      "34/34 - 2s - loss: 0.0165 - accuracy: 0.9991\n",
      "Epoch 12/20\n",
      "34/34 - 2s - loss: 0.0203 - accuracy: 0.9972\n",
      "Epoch 13/20\n",
      "34/34 - 2s - loss: 0.0092 - accuracy: 0.9991\n",
      "Epoch 14/20\n",
      "34/34 - 2s - loss: 0.0108 - accuracy: 0.9991\n",
      "Epoch 15/20\n",
      "34/34 - 2s - loss: 0.0049 - accuracy: 1.0000\n",
      "Epoch 16/20\n",
      "34/34 - 2s - loss: 0.0023 - accuracy: 1.0000\n",
      "Epoch 17/20\n",
      "34/34 - 2s - loss: 0.0015 - accuracy: 1.0000\n",
      "Epoch 18/20\n",
      "34/34 - 2s - loss: 0.0012 - accuracy: 1.0000\n",
      "Epoch 19/20\n",
      "34/34 - 2s - loss: 0.0010 - accuracy: 1.0000\n",
      "Epoch 20/20\n",
      "34/34 - 2s - loss: 9.2669e-04 - accuracy: 1.0000\n",
      "4/4 [==============================] - 0s 8ms/step - loss: 0.2088 - accuracy: 0.9583\n"
     ]
    },
    {
     "data": {
      "text/plain": [
       "[0.20877835154533386, 0.9583333134651184]"
      ]
     },
     "execution_count": 4,
     "metadata": {},
     "output_type": "execute_result"
    }
   ],
   "source": [
    "# fit the model \n",
    "history = model.fit(X_train, Y_train, epochs = 20, batch_size=32, verbose=2)\n",
    "\n",
    "# model evaluation\n",
    "model.evaluate(X_test, Y_test)"
   ]
  },
  {
   "cell_type": "code",
   "execution_count": 5,
   "metadata": {},
   "outputs": [
    {
     "data": {
      "text/plain": [
       "<Figure size 432x288 with 0 Axes>"
      ]
     },
     "execution_count": 5,
     "metadata": {},
     "output_type": "execute_result"
    },
    {
     "data": {
      "image/png": "[encoded data removed]",
      "text/plain": [
       "<Figure size 432x288 with 1 Axes>"
      ]
     },
     "metadata": {
      "needs_background": "light"
     },
     "output_type": "display_data"
    },
    {
     "data": {
      "text/plain": [
       "<Figure size 432x288 with 0 Axes>"
      ]
     },
     "metadata": {},
     "output_type": "display_data"
    }
   ],
   "source": [
    "# Plot the chart for accuracy and loss on both training and validation\n",
    "%matplotlib inline\n",
    "import matplotlib.pyplot as plt\n",
    "acc = history.history['accuracy']\n",
    "# val_acc = history.history['val_accuracy']\n",
    "\n",
    "epochs = range(len(acc))\n",
    "\n",
    "plt.plot(epochs, acc, 'r', label='Training accuracy')\n",
    "# plt.plot(epochs, val_acc, 'b', label='Validation accuracy')\n",
    "plt.title('Training and validation accuracy')\n",
    "plt.legend()\n",
    "plt.figure()"
   ]
  },
  {
   "cell_type": "markdown",
   "metadata": {},
   "source": [
    "# Conclusion\n",
    "\n",
    "* with just 2 layers of convolutions, the model became very stable, and the fluctuation in accuracy that was observed with only neural network is not there anymore.\n",
    "* For neural network model, it took more than 40 epochs to reach a level of 97% train accuracy, but with CNN ( with two layers of convolution) the model reaches 100 percent train accuracy on 11th epoch with (512, 256, 128, 6) dimension of dense layer and with test accuracy of 95 percent.\n",
    "* (BEST MODEL) The same model with dense layers of 512, 128,6 neurons, reaches 100% accuracy on train data in 13/20 epoch with test accuracy of 95.85%, so reducing neurons actually improved the model. \n",
    "* The same model with 256, 128 and 6 neuron dense layer after two convolution layers, reaches 100% accuracy in 13th epoch but this time the test accuracy drops to 94 %.\n",
    "* Since the test accuracy has dropped, next i will try to overfit the model and then use drop out to gain on test accuracy. I am uisng only one layer of drop out, which is placed after 512 neurons dense layer. The model reached 97 % accuracy in 20 epochs, with 90 % test accuraccy, it seems the regularization was much stronger than what i intended it to be. I believe some information was lost due to dropout.\n",
    "* new model (512, 512, 128, 6) with dropout layer between two 512 layer, train accuracy remians 97% and test accuracy 85 %. Drop out doesn't seems to have positive impact for this model, may the model is not overfitting at all. This might be because of the fact that the data I am using is processed data and only a subset of original sign MNIST data."
   ]
  },
  {
   "cell_type": "code",
   "execution_count": null,
   "metadata": {},
   "outputs": [],
   "source": []
  }
 ],
 "metadata": {
  "kernelspec": {
   "display_name": "Python 3",
   "language": "python",
   "name": "python3"
  },
  "language_info": {
   "codemirror_mode": {
    "name": "ipython",
    "version": 3
   },
   "file_extension": ".py",
   "mimetype": "text/x-python",
   "name": "python",
   "nbconvert_exporter": "python",
   "pygments_lexer": "ipython3",
   "version": "3.8.0"
  }
 },
 "nbformat": 4,
 "nbformat_minor": 4
}
