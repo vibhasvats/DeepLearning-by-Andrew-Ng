{
 "cells": [
  {
   "cell_type": "code",
   "execution_count": 2,
   "metadata": {},
   "outputs": [],
   "source": [
    "# imports \n",
    "import math\n",
    "import numpy as np \n",
    "import h5py\n",
    "import matplotlib.pyplot as plt \n",
    "import tensorflow as tf \n",
    "\n",
    "%matplotlib inline "
   ]
  },
  {
   "cell_type": "markdown",
   "metadata": {},
   "source": [
    "## Data loading and preparation\n",
    "\n",
    "- Load the data \n",
    "- Normalize the image vector"
   ]
  },
  {
   "cell_type": "code",
   "execution_count": 3,
   "metadata": {},
   "outputs": [
    {
     "name": "stdout",
     "output_type": "stream",
     "text": [
      "train set X origin shape (1080, 64, 64, 3)\n",
      "train set Y origin shape (1080,)\n",
      "test set X origin shape (120, 64, 64, 3)\n",
      "test set Y origin shape (120,)\n"
     ]
    }
   ],
   "source": [
    "# load the data from compressed file \n",
    "train_dataset = h5py.File('datasets/train_signs.h5', \"r\")\n",
    "train_set_x_orig = np.array(train_dataset[\"train_set_x\"][:]) # your train set features\n",
    "train_set_y_orig = np.array(train_dataset[\"train_set_y\"][:]) # your train set labels\n",
    "\n",
    "test_dataset = h5py.File('datasets/test_signs.h5', \"r\")\n",
    "test_set_x_orig = np.array(test_dataset[\"test_set_x\"][:]) # your test set features\n",
    "test_set_y_orig = np.array(test_dataset[\"test_set_y\"][:]) # your test set labels\n",
    "\n",
    "print( \"train set X origin shape\", train_set_x_orig.shape)\n",
    "print( \"train set Y origin shape\", train_set_y_orig.shape)\n",
    "print( \"test set X origin shape\", test_set_x_orig.shape)\n",
    "print( \"test set Y origin shape\", test_set_y_orig.shape)\n",
    "\n",
    "\n",
    "classes = np.array(test_dataset[\"list_classes\"][:]) # the list of classes\n",
    "\n",
    "# Normalize these vectors \n",
    "X_train = train_set_x_orig/255\n",
    "X_test = test_set_x_orig/255\n",
    "\n",
    "Y_train = train_set_y_orig\n",
    "Y_test = test_set_y_orig\n"
   ]
  },
  {
   "cell_type": "markdown",
   "metadata": {},
   "source": [
    "# Neural Network Model \n",
    "\n",
    "* Here we only want to see how the neural network model works on sign MNIST dataset. \n"
   ]
  },
  {
   "cell_type": "code",
   "execution_count": 29,
   "metadata": {},
   "outputs": [
    {
     "name": "stdout",
     "output_type": "stream",
     "text": [
      "Model: \"sequential_9\"\n",
      "_________________________________________________________________\n",
      "Layer (type)                 Output Shape              Param #   \n",
      "=================================================================\n",
      "flatten_9 (Flatten)          (None, 12288)             0         \n",
      "_________________________________________________________________\n",
      "dense_46 (Dense)             (None, 512)               6291968   \n",
      "_________________________________________________________________\n",
      "dense_47 (Dense)             (None, 256)               131328    \n",
      "_________________________________________________________________\n",
      "dense_48 (Dense)             (None, 128)               32896     \n",
      "_________________________________________________________________\n",
      "dense_49 (Dense)             (None, 6)                 774       \n",
      "=================================================================\n",
      "Total params: 6,456,966\n",
      "Trainable params: 6,456,966\n",
      "Non-trainable params: 0\n",
      "_________________________________________________________________\n"
     ]
    }
   ],
   "source": [
    "# making a sequential model with Tensorflow \n",
    "model = tf.keras.models.Sequential([\n",
    "    tf.keras.layers.Flatten(input_shape=(64,64,3)),\n",
    "    tf.keras.layers.Dense(512, activation='relu'),\n",
    "    tf.keras.layers.Dense(256, activation='relu'),\n",
    "    tf.keras.layers.Dense(128, activation='relu'),\n",
    "    tf.keras.layers.Dense(6, activation='softmax')\n",
    "])\n",
    "\n",
    "# comile the model \n",
    "model.compile(optimizer='adam', \n",
    "             loss = \"sparse_categorical_crossentropy\",\n",
    "             metrics= [\"accuracy\"])\n",
    "\n",
    "# model summary\n",
    "model.summary()\n"
   ]
  },
  {
   "cell_type": "code",
   "execution_count": 32,
   "metadata": {},
   "outputs": [
    {
     "name": "stdout",
     "output_type": "stream",
     "text": [
      "Epoch 1/100\n",
      "34/34 - 1s - loss: 0.4371 - accuracy: 0.8435\n",
      "Epoch 2/100\n",
      "34/34 - 1s - loss: 0.2503 - accuracy: 0.9111\n",
      "Epoch 3/100\n",
      "34/34 - 1s - loss: 0.2554 - accuracy: 0.9046\n",
      "Epoch 4/100\n",
      "34/34 - 1s - loss: 0.2770 - accuracy: 0.9056\n",
      "Epoch 5/100\n",
      "34/34 - 1s - loss: 0.2307 - accuracy: 0.9157\n",
      "Epoch 6/100\n",
      "34/34 - 1s - loss: 0.1658 - accuracy: 0.9435\n",
      "Epoch 7/100\n",
      "34/34 - 1s - loss: 0.1785 - accuracy: 0.9407\n",
      "Epoch 8/100\n",
      "34/34 - 1s - loss: 0.3039 - accuracy: 0.8880\n",
      "Epoch 9/100\n",
      "34/34 - 1s - loss: 0.2619 - accuracy: 0.8981\n",
      "Epoch 10/100\n",
      "34/34 - 1s - loss: 0.1398 - accuracy: 0.9593\n",
      "Epoch 11/100\n",
      "34/34 - 1s - loss: 0.1406 - accuracy: 0.9500\n",
      "Epoch 12/100\n",
      "34/34 - 1s - loss: 0.2634 - accuracy: 0.9000\n",
      "Epoch 13/100\n",
      "34/34 - 1s - loss: 0.3410 - accuracy: 0.8741\n",
      "Epoch 14/100\n",
      "34/34 - 1s - loss: 0.1847 - accuracy: 0.9333\n",
      "Epoch 15/100\n",
      "34/34 - 1s - loss: 0.1098 - accuracy: 0.9704\n",
      "Epoch 16/100\n",
      "34/34 - 1s - loss: 0.0898 - accuracy: 0.9722\n",
      "Epoch 17/100\n",
      "34/34 - 1s - loss: 0.1414 - accuracy: 0.9454\n",
      "Epoch 18/100\n",
      "34/34 - 1s - loss: 0.4553 - accuracy: 0.8565\n",
      "Epoch 19/100\n",
      "34/34 - 1s - loss: 0.5732 - accuracy: 0.7926\n",
      "Epoch 20/100\n",
      "34/34 - 1s - loss: 0.2484 - accuracy: 0.9139\n",
      "Epoch 21/100\n",
      "34/34 - 1s - loss: 0.2099 - accuracy: 0.9259\n",
      "Epoch 22/100\n",
      "34/34 - 1s - loss: 0.2373 - accuracy: 0.9102\n",
      "Epoch 23/100\n",
      "34/34 - 1s - loss: 0.3006 - accuracy: 0.8852\n",
      "Epoch 24/100\n",
      "34/34 - 1s - loss: 0.2949 - accuracy: 0.8917\n",
      "Epoch 25/100\n",
      "34/34 - 1s - loss: 0.1778 - accuracy: 0.9333\n",
      "Epoch 26/100\n",
      "34/34 - 1s - loss: 0.3685 - accuracy: 0.8806\n",
      "Epoch 27/100\n",
      "34/34 - 1s - loss: 0.1848 - accuracy: 0.9361\n",
      "Epoch 28/100\n",
      "34/34 - 1s - loss: 0.2848 - accuracy: 0.8972\n",
      "Epoch 29/100\n",
      "34/34 - 1s - loss: 0.1386 - accuracy: 0.9481\n",
      "Epoch 30/100\n",
      "34/34 - 1s - loss: 0.1539 - accuracy: 0.9454\n",
      "Epoch 31/100\n",
      "34/34 - 1s - loss: 0.2315 - accuracy: 0.9120\n",
      "Epoch 32/100\n",
      "34/34 - 1s - loss: 0.1643 - accuracy: 0.9407\n",
      "Epoch 33/100\n",
      "34/34 - 1s - loss: 0.1071 - accuracy: 0.9657\n",
      "Epoch 34/100\n",
      "34/34 - 1s - loss: 0.2200 - accuracy: 0.9231\n",
      "Epoch 35/100\n",
      "34/34 - 1s - loss: 0.1527 - accuracy: 0.9454\n",
      "Epoch 36/100\n",
      "34/34 - 1s - loss: 0.0705 - accuracy: 0.9815\n",
      "Epoch 37/100\n",
      "34/34 - 1s - loss: 0.1107 - accuracy: 0.9620\n",
      "Epoch 38/100\n",
      "34/34 - 1s - loss: 0.4369 - accuracy: 0.8352\n",
      "Epoch 39/100\n",
      "34/34 - 1s - loss: 0.3770 - accuracy: 0.8676\n",
      "Epoch 40/100\n",
      "34/34 - 1s - loss: 0.1491 - accuracy: 0.9454\n",
      "Epoch 41/100\n",
      "34/34 - 1s - loss: 0.1412 - accuracy: 0.9537\n",
      "Epoch 42/100\n",
      "34/34 - 1s - loss: 0.1495 - accuracy: 0.9454\n",
      "Epoch 43/100\n",
      "34/34 - 1s - loss: 0.2944 - accuracy: 0.9074\n",
      "Epoch 44/100\n",
      "34/34 - 1s - loss: 0.3482 - accuracy: 0.8750\n",
      "Epoch 45/100\n",
      "34/34 - 1s - loss: 0.1130 - accuracy: 0.9648\n",
      "Epoch 46/100\n",
      "34/34 - 1s - loss: 0.0517 - accuracy: 0.9889\n",
      "Epoch 47/100\n",
      "34/34 - 1s - loss: 0.0593 - accuracy: 0.9833\n",
      "Epoch 48/100\n",
      "34/34 - 1s - loss: 0.2027 - accuracy: 0.9269\n",
      "Epoch 49/100\n",
      "34/34 - 1s - loss: 0.1113 - accuracy: 0.9593\n",
      "Epoch 50/100\n",
      "34/34 - 1s - loss: 0.0583 - accuracy: 0.9796\n",
      "Epoch 51/100\n",
      "34/34 - 1s - loss: 0.0597 - accuracy: 0.9787\n",
      "Epoch 52/100\n",
      "34/34 - 1s - loss: 0.2300 - accuracy: 0.9074\n",
      "Epoch 53/100\n",
      "34/34 - 1s - loss: 0.1837 - accuracy: 0.9324\n",
      "Epoch 54/100\n",
      "34/34 - 1s - loss: 0.1060 - accuracy: 0.9565\n",
      "Epoch 55/100\n",
      "34/34 - 1s - loss: 0.0450 - accuracy: 0.9917\n",
      "Epoch 56/100\n",
      "34/34 - 1s - loss: 0.0365 - accuracy: 0.9907\n",
      "Epoch 57/100\n",
      "34/34 - 1s - loss: 0.0673 - accuracy: 0.9796\n",
      "Epoch 58/100\n",
      "34/34 - 1s - loss: 0.5756 - accuracy: 0.8287\n",
      "Epoch 59/100\n",
      "34/34 - 1s - loss: 0.5063 - accuracy: 0.8352\n",
      "Epoch 60/100\n",
      "34/34 - 1s - loss: 0.1155 - accuracy: 0.9667\n",
      "Epoch 61/100\n",
      "34/34 - 1s - loss: 0.1244 - accuracy: 0.9565\n",
      "Epoch 62/100\n",
      "34/34 - 1s - loss: 0.0914 - accuracy: 0.9769\n",
      "Epoch 63/100\n",
      "34/34 - 1s - loss: 0.2868 - accuracy: 0.8963\n",
      "Epoch 64/100\n",
      "34/34 - 1s - loss: 0.1439 - accuracy: 0.9472\n",
      "Epoch 65/100\n",
      "34/34 - 1s - loss: 0.0865 - accuracy: 0.9704\n",
      "Epoch 66/100\n",
      "34/34 - 1s - loss: 0.1338 - accuracy: 0.9509\n",
      "Epoch 67/100\n",
      "34/34 - 1s - loss: 0.0459 - accuracy: 0.9889\n",
      "Epoch 68/100\n",
      "34/34 - 1s - loss: 0.1010 - accuracy: 0.9602\n",
      "Epoch 69/100\n",
      "34/34 - 1s - loss: 0.1421 - accuracy: 0.9491\n",
      "Epoch 70/100\n",
      "34/34 - 1s - loss: 0.1892 - accuracy: 0.9352\n",
      "Epoch 71/100\n",
      "34/34 - 1s - loss: 0.6088 - accuracy: 0.8204\n",
      "Epoch 72/100\n",
      "34/34 - 1s - loss: 0.3680 - accuracy: 0.8639\n",
      "Epoch 73/100\n",
      "34/34 - 1s - loss: 0.1951 - accuracy: 0.9324\n",
      "Epoch 74/100\n",
      "34/34 - 1s - loss: 0.0789 - accuracy: 0.9759\n",
      "Epoch 75/100\n",
      "34/34 - 1s - loss: 0.0724 - accuracy: 0.9769\n",
      "Epoch 76/100\n",
      "34/34 - 1s - loss: 0.0478 - accuracy: 0.9870\n",
      "Epoch 77/100\n",
      "34/34 - 1s - loss: 0.0296 - accuracy: 0.9954\n",
      "Epoch 78/100\n",
      "34/34 - 1s - loss: 0.0472 - accuracy: 0.9843\n",
      "Epoch 79/100\n",
      "34/34 - 1s - loss: 0.1874 - accuracy: 0.9269\n",
      "Epoch 80/100\n",
      "34/34 - 1s - loss: 0.1216 - accuracy: 0.9556\n",
      "Epoch 81/100\n",
      "34/34 - 1s - loss: 0.0478 - accuracy: 0.9824\n",
      "Epoch 82/100\n",
      "34/34 - 1s - loss: 0.0582 - accuracy: 0.9815\n",
      "Epoch 83/100\n",
      "34/34 - 1s - loss: 0.1432 - accuracy: 0.9491\n",
      "Epoch 84/100\n",
      "34/34 - 1s - loss: 0.5867 - accuracy: 0.8546\n",
      "Epoch 85/100\n",
      "34/34 - 1s - loss: 0.1539 - accuracy: 0.9509\n",
      "Epoch 86/100\n",
      "34/34 - 1s - loss: 0.0669 - accuracy: 0.9806\n",
      "Epoch 87/100\n",
      "34/34 - 1s - loss: 0.2791 - accuracy: 0.8991\n",
      "Epoch 88/100\n",
      "34/34 - 1s - loss: 0.0349 - accuracy: 0.9944\n",
      "Epoch 89/100\n",
      "34/34 - 1s - loss: 0.0535 - accuracy: 0.9843\n",
      "Epoch 90/100\n",
      "34/34 - 1s - loss: 0.0595 - accuracy: 0.9833\n",
      "Epoch 91/100\n",
      "34/34 - 1s - loss: 0.1384 - accuracy: 0.9435\n",
      "Epoch 92/100\n",
      "34/34 - 1s - loss: 0.1877 - accuracy: 0.9250\n",
      "Epoch 93/100\n",
      "34/34 - 1s - loss: 0.0688 - accuracy: 0.9806\n",
      "Epoch 94/100\n",
      "34/34 - 1s - loss: 0.0472 - accuracy: 0.9861\n",
      "Epoch 95/100\n",
      "34/34 - 1s - loss: 0.0496 - accuracy: 0.9815\n",
      "Epoch 96/100\n",
      "34/34 - 1s - loss: 0.0511 - accuracy: 0.9843\n",
      "Epoch 97/100\n",
      "34/34 - 1s - loss: 0.1044 - accuracy: 0.9639\n",
      "Epoch 98/100\n",
      "34/34 - 1s - loss: 0.0385 - accuracy: 0.9880\n",
      "Epoch 99/100\n",
      "34/34 - 1s - loss: 0.0746 - accuracy: 0.9713\n",
      "Epoch 100/100\n",
      "34/34 - 1s - loss: 0.0677 - accuracy: 0.9759\n",
      "4/4 [==============================] - 0s 3ms/step - loss: 0.5202 - accuracy: 0.8500\n"
     ]
    },
    {
     "data": {
      "text/plain": [
       "[0.5202463865280151, 0.8500000238418579]"
      ]
     },
     "execution_count": 32,
     "metadata": {},
     "output_type": "execute_result"
    }
   ],
   "source": [
    "# fit the model \n",
    "history = model.fit(X_train, Y_train, epochs = 100, batch_size=32, verbose=2)\n",
    "\n",
    "# model evaluation\n",
    "model.evaluate(X_test, Y_test)"
   ]
  },
  {
   "cell_type": "code",
   "execution_count": 33,
   "metadata": {},
   "outputs": [
    {
     "data": {
      "text/plain": [
       "<Figure size 432x288 with 0 Axes>"
      ]
     },
     "execution_count": 33,
     "metadata": {},
     "output_type": "execute_result"
    },
    {
     "data": {
      "image/png": "[encoded data removed]",
      "text/plain": [
       "<Figure size 432x288 with 1 Axes>"
      ]
     },
     "metadata": {
      "needs_background": "light"
     },
     "output_type": "display_data"
    },
    {
     "data": {
      "text/plain": [
       "<Figure size 432x288 with 0 Axes>"
      ]
     },
     "metadata": {},
     "output_type": "display_data"
    }
   ],
   "source": [
    "# Plot the chart for accuracy and loss on both training and validation\n",
    "%matplotlib inline\n",
    "import matplotlib.pyplot as plt\n",
    "acc = history.history['accuracy']\n",
    "# val_acc = history.history['val_accuracy']\n",
    "\n",
    "epochs = range(len(acc))\n",
    "\n",
    "plt.plot(epochs, acc, 'r', label='Training accuracy')\n",
    "# plt.plot(epochs, val_acc, 'b', label='Validation accuracy')\n",
    "plt.title('Training and validation accuracy')\n",
    "plt.legend()\n",
    "plt.figure()"
   ]
  },
  {
   "cell_type": "code",
   "execution_count": null,
   "metadata": {},
   "outputs": [],
   "source": []
  },
  {
   "cell_type": "code",
   "execution_count": null,
   "metadata": {},
   "outputs": [],
   "source": []
  },
  {
   "cell_type": "code",
   "execution_count": null,
   "metadata": {},
   "outputs": [],
   "source": []
  },
  {
   "cell_type": "code",
   "execution_count": null,
   "metadata": {},
   "outputs": [],
   "source": []
  },
  {
   "cell_type": "code",
   "execution_count": null,
   "metadata": {},
   "outputs": [],
   "source": []
  },
  {
   "cell_type": "code",
   "execution_count": null,
   "metadata": {},
   "outputs": [],
   "source": []
  }
 ],
 "metadata": {
  "kernelspec": {
   "display_name": "Python 3",
   "language": "python",
   "name": "python3"
  },
  "language_info": {
   "codemirror_mode": {
    "name": "ipython",
    "version": 3
   },
   "file_extension": ".py",
   "mimetype": "text/x-python",
   "name": "python",
   "nbconvert_exporter": "python",
   "pygments_lexer": "ipython3",
   "version": "3.8.0"
  }
 },
 "nbformat": 4,
 "nbformat_minor": 4
}
